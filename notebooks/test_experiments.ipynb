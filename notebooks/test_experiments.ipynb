{
 "metadata": {
  "language_info": {
   "codemirror_mode": {
    "name": "ipython",
    "version": 3
   },
   "file_extension": ".py",
   "mimetype": "text/x-python",
   "name": "python",
   "nbconvert_exporter": "python",
   "pygments_lexer": "ipython3",
   "version": 3
  },
  "orig_nbformat": 2
 },
 "nbformat": 4,
 "nbformat_minor": 2,
 "cells": [
  {
   "source": [
    "# Test of experiment process\n",
    "\n",
    "- 1) Setup an experiment for a printer + filament\n",
    "- 2) Each experiment is made from first layer and non first layer Tests\n",
    "    - fist layer in grid\n",
    "    - other in diagonal\n",
    "- 3) Each test is made of min 3 phases :\n",
    "    - initialisation\n",
    "    - improvement\n",
    "    - validation"
   ],
   "cell_type": "markdown",
   "metadata": {}
  }
 ]
}