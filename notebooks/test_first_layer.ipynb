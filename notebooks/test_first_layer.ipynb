{
 "cells": [
  {
   "cell_type": "code",
   "execution_count": 1,
   "id": "educational-praise",
   "metadata": {},
   "outputs": [],
   "source": [
    "import skopt\n",
    "import numpy as np\n",
    "import pandas as pd\n",
    "import sliceoptim.samples as sp\n",
    "import sliceoptim.core as core\n",
    "import pickle\n",
    "import os\n",
    "from skopt.space import Real, Integer"
   ]
  },
  {
   "cell_type": "code",
   "execution_count": 2,
   "id": "terminal-bulletin",
   "metadata": {},
   "outputs": [],
   "source": [
    "printer = core.Printer(\n",
    "    name=\"test_printer\",\n",
    "    bed_size=[220, 220],\n",
    "    nozzle_diameter=0.4,\n",
    "    max_speed=120,\n",
    "    min_speed=5,\n",
    ")\n",
    "filament = core.Filament(\n",
    "    name=\"pla_test\",\n",
    "    kind=\"pla\",\n",
    "    extrusion_temp_range=[180, 250],\n",
    "    bed_temp_range=[25, 80],\n",
    "    diameter=1.75,\n",
    ")"
   ]
  },
  {
   "cell_type": "code",
   "execution_count": 3,
   "id": "japanese-toronto",
   "metadata": {},
   "outputs": [],
   "source": [
    "### setup parameters space\n",
    "params = []"
   ]
  },
  {
   "cell_type": "code",
   "execution_count": 4,
   "id": "secret-occupation",
   "metadata": {},
   "outputs": [],
   "source": [
    "params.append(Integer(name=\"first-layer-temperature\", low=190, high=220))\n",
    "params.append(Integer(name=\"first-layer-bed-temperature\", low=40, high=55))\n",
    "params.append(\n",
    "    Integer(\n",
    "        name=\"first-layer-speed\", low=printer.min_speed, high=printer.max_speed * 0.5\n",
    "    )\n",
    ")\n",
    "params.append(\n",
    "    Real(\n",
    "        name=\"first-layer-height\",\n",
    "        low=printer.nozzle_diameter * 0.7,#0.75,\n",
    "        high=printer.nozzle_diameter,\n",
    "    )\n",
    ")\n",
    "params.append(\n",
    "    Real(\n",
    "        name=\"first-layer-extrusion-width\",\n",
    "        low=printer.nozzle_diameter * 0.9,\n",
    "        high=printer.nozzle_diameter * 2.5,\n",
    "    )\n",
    ")\n",
    "params.append(Real(name=\"extrusion-multiplier\", low=0.8, high=1.2))\n",
    "params.append(\n",
    "    Real(\n",
    "        name=\"layer-height\",\n",
    "        low=printer.nozzle_diameter * 0.2,# 0.19,\n",
    "        high=printer.nozzle_diameter,\n",
    "    )\n",
    ")"
   ]
  },
  {
   "cell_type": "code",
   "execution_count": 5,
   "metadata": {
    "lines_to_next_cell": 0
   },
   "outputs": [],
   "source": [
    "space = skopt.Space(params)"
   ]
  },
  {
   "cell_type": "code",
   "execution_count": 6,
   "metadata": {
    "lines_to_next_cell": 2
   },
   "outputs": [],
   "source": [
    "### setup experiment\n",
    "fl_exp = core.Experiment(\n",
    "    name=\"first_layer\",\n",
    "    sample_file=\"../assets/first_layer.stl\",\n",
    "    is_first_layer=True,\n",
    "    spacing=5,\n",
    "    printer=printer,\n",
    "    filament=filament,\n",
    "    params_space=space,\n",
    "    output_file=\"../experiments/first_layer.gcode\",\n",
    ")"
   ]
  },
  {
   "cell_type": "code",
   "execution_count": 7,
   "id": "statistical-cycling",
   "metadata": {},
   "outputs": [],
   "source": [
    "### lookup and save for existing data\n",
    "data = pd.DataFrame()\n",
    "for filename in os.listdir(\"../experiments/\"):\n",
    "    if filename.endswith(\".csv\"):\n",
    "        # check if the file is related with expe and how\n",
    "        if fl_exp.name in filename:\n",
    "            data = data.append(pd.read_csv(\"../experiments/\" + filename, index_col=0))"
   ]
  },
  {
   "cell_type": "code",
   "execution_count": 8,
   "metadata": {},
   "outputs": [],
   "source": [
    "if True: ## TODO : samples grid id in csv export, estim_best_config min registered samples, unify from csv, correct rounding in csv\n",
    "    fl_exp.create_new_sample_grid(15)\n",
    "    fl_exp.import_csv(\"../experiments/first_layer.csv\", overwrite_samples=True)\n",
    "    fl_exp.compute_and_update_samples_costs()\n",
    "    fl_exp.register_costs_to_optimizer()"
   ]
  },
  {
   "cell_type": "code",
   "execution_count": 9,
   "metadata": {},
   "outputs": [
    {
     "output_type": "execute_result",
     "data": {
      "text/plain": [
       "    first-layer-temperature  first-layer-bed-temperature  first-layer-speed  \\\n",
       "40                      212                           50                 56   \n",
       "41                      204                           52                 31   \n",
       "42                      196                           52                 46   \n",
       "43                      210                           54                 11   \n",
       "44                      214                           54                 58   \n",
       "\n",
       "    first-layer-height  first-layer-extrusion-width  extrusion-multiplier  \\\n",
       "40            0.398406                     0.377704              0.860451   \n",
       "41            0.385880                     0.735323              0.976471   \n",
       "42            0.349145                     0.508149              0.935149   \n",
       "43            0.334019                     0.850594              1.101052   \n",
       "44            0.322368                     0.717664              0.819923   \n",
       "\n",
       "    layer-height  temperature  bed-temperature  print_time  quality  cost  \\\n",
       "40      0.357910          212               50    0.533772      7.5   NaN   \n",
       "41      0.192342          204               52    0.590296      8.0   NaN   \n",
       "42      0.303174          196               52    0.457728      9.0   NaN   \n",
       "43      0.205064          210               54    1.017409      8.0   NaN   \n",
       "44      0.173053          214               54    0.364084      8.5   NaN   \n",
       "\n",
       "    sample_grid_id  \n",
       "40               2  \n",
       "41               2  \n",
       "42               2  \n",
       "43               2  \n",
       "44               2  "
      ],
      "text/html": "<div>\n<style scoped>\n    .dataframe tbody tr th:only-of-type {\n        vertical-align: middle;\n    }\n\n    .dataframe tbody tr th {\n        vertical-align: top;\n    }\n\n    .dataframe thead th {\n        text-align: right;\n    }\n</style>\n<table border=\"1\" class=\"dataframe\">\n  <thead>\n    <tr style=\"text-align: right;\">\n      <th></th>\n      <th>first-layer-temperature</th>\n      <th>first-layer-bed-temperature</th>\n      <th>first-layer-speed</th>\n      <th>first-layer-height</th>\n      <th>first-layer-extrusion-width</th>\n      <th>extrusion-multiplier</th>\n      <th>layer-height</th>\n      <th>temperature</th>\n      <th>bed-temperature</th>\n      <th>print_time</th>\n      <th>quality</th>\n      <th>cost</th>\n      <th>sample_grid_id</th>\n    </tr>\n  </thead>\n  <tbody>\n    <tr>\n      <th>40</th>\n      <td>212</td>\n      <td>50</td>\n      <td>56</td>\n      <td>0.398406</td>\n      <td>0.377704</td>\n      <td>0.860451</td>\n      <td>0.357910</td>\n      <td>212</td>\n      <td>50</td>\n      <td>0.533772</td>\n      <td>7.5</td>\n      <td>NaN</td>\n      <td>2</td>\n    </tr>\n    <tr>\n      <th>41</th>\n      <td>204</td>\n      <td>52</td>\n      <td>31</td>\n      <td>0.385880</td>\n      <td>0.735323</td>\n      <td>0.976471</td>\n      <td>0.192342</td>\n      <td>204</td>\n      <td>52</td>\n      <td>0.590296</td>\n      <td>8.0</td>\n      <td>NaN</td>\n      <td>2</td>\n    </tr>\n    <tr>\n      <th>42</th>\n      <td>196</td>\n      <td>52</td>\n      <td>46</td>\n      <td>0.349145</td>\n      <td>0.508149</td>\n      <td>0.935149</td>\n      <td>0.303174</td>\n      <td>196</td>\n      <td>52</td>\n      <td>0.457728</td>\n      <td>9.0</td>\n      <td>NaN</td>\n      <td>2</td>\n    </tr>\n    <tr>\n      <th>43</th>\n      <td>210</td>\n      <td>54</td>\n      <td>11</td>\n      <td>0.334019</td>\n      <td>0.850594</td>\n      <td>1.101052</td>\n      <td>0.205064</td>\n      <td>210</td>\n      <td>54</td>\n      <td>1.017409</td>\n      <td>8.0</td>\n      <td>NaN</td>\n      <td>2</td>\n    </tr>\n    <tr>\n      <th>44</th>\n      <td>214</td>\n      <td>54</td>\n      <td>58</td>\n      <td>0.322368</td>\n      <td>0.717664</td>\n      <td>0.819923</td>\n      <td>0.173053</td>\n      <td>214</td>\n      <td>54</td>\n      <td>0.364084</td>\n      <td>8.5</td>\n      <td>NaN</td>\n      <td>2</td>\n    </tr>\n  </tbody>\n</table>\n</div>"
     },
     "metadata": {},
     "execution_count": 9
    }
   ],
   "source": [
    "data.tail()"
   ]
  },
  {
   "source": [
    "### lookup for existing experiment object\n",
    "for filename in os.listdir(\"../experiments/\"):\n",
    "    if filename == \"first_layer.exp\":\n",
    "        with open(\"../experiments/first_layer.exp\", \"rb\") as exp_file:\n",
    "            fl_exp = pickle.load(exp_file)"
   ],
   "cell_type": "markdown",
   "metadata": {}
  },
  {
   "cell_type": "markdown",
   "id": "played-answer",
   "metadata": {},
   "source": [
    "## Generate next sample grid with csv for results (if not already done)"
   ]
  },
  {
   "cell_type": "code",
   "execution_count": 10,
   "metadata": {},
   "outputs": [],
   "source": [
    "### first test\n",
    "n_samples = 15\n",
    "if data.empty:\n",
    "    fl_exp.create_new_sample_grid(n_samples)\n",
    "    fl_exp.write_gcode_for_last_sample_grid()\n",
    "    fl_exp.to_csv(\"../experiments/first_layer.csv\")\n",
    "    with open(\"../experiments/first_layer.exp\", \"wb\") as exp_file:\n",
    "            pickle.dump(fl_exp, exp_file)\n",
    "### other tests\n",
    "else:\n",
    "    if data[\"quality\"].isna().any():\n",
    "        print(\"You must fill all quality values in csv to proceed.\")\n",
    "    else:\n",
    "        for i, s in enumerate(fl_exp.get_samples_list()):\n",
    "            s.quality = data.loc[i, \"quality\"]\n",
    "        fl_exp.compute_and_update_samples_costs()\n",
    "        fl_exp.register_costs_to_optimizer()\n",
    "        fl_exp.create_new_sample_grid(n_samples)\n",
    "        fl_exp.write_gcode_for_last_sample_grid()\n",
    "        fl_exp.export_csv(\"../experiments/first_layer.csv\")\n",
    "        with open(\"../experiments/first_layer.exp\", \"wb\") as exp_file:\n",
    "            pickle.dump(fl_exp, exp_file)\n"
   ]
  },
  {
   "cell_type": "code",
   "execution_count": 15,
   "metadata": {},
   "outputs": [
    {
     "output_type": "stream",
     "name": "stdout",
     "text": [
      "{'first-layer-temperature': 194.0, 'first-layer-bed-temperature': 47.0, 'first-layer-speed': 42.0, 'first-layer-height': 0.30380183449973774, 'first-layer-extrusion-width': 0.36187805920739535, 'extrusion-multiplier': 0.9608444769306863, 'layer-height': 0.08, 'temperature': 200.0, 'bed-temperature': 49.0}\n[1.42270309]\n"
     ]
    }
   ],
   "source": [
    "if fl_exp.get_samples_results_df()[\"cost\"].isnull().any():\n",
    "    fl_exp.sample_grid_list = fl_exp.sample_grid_list[:-1]\n",
    "best_conf, std = fl_exp.estim_best_config()\n",
    "print(best_conf)\n",
    "print(std)"
   ]
  },
  {
   "source": [],
   "cell_type": "markdown",
   "metadata": {}
  },
  {
   "cell_type": "code",
   "execution_count": 16,
   "metadata": {},
   "outputs": [],
   "source": [
    "fl_exp.write_validation_sample(best_conf, \"../experiments/first_layer_validation.gcode\")"
   ]
  },
  {
   "source": [
    "### old results\n",
    "({'first-layer-temperature': 200.0,\n",
    "  'first-layer-bed-temperature': 41.0,\n",
    "  'first-layer-speed': 56.0,\n",
    "  'first-layer-height': 0.3883091239680703,\n",
    "  'first-layer-extrusion-width': 0.7890043521390845,\n",
    "  'extrusion-multiplier': 0.9461122801514417,\n",
    "  'layer-height': 0.3138314145538781},\n",
    " array([1.18629722]))\n",
    "\n",
    " ({'first-layer-temperature': 207.0,\n",
    "  'first-layer-bed-temperature': 54.0,\n",
    "  'first-layer-speed': 60.0,\n",
    "  'first-layer-height': 0.3640539917527952,\n",
    "  'first-layer-extrusion-width': 0.6443718784490133,\n",
    "  'extrusion-multiplier': 0.8,\n",
    "  'layer-height': 0.16840278191077146},\n",
    " array([0.59983439]))"
   ],
   "cell_type": "markdown",
   "metadata": {}
  }
 ],
 "metadata": {
  "jupytext": {
   "encoding": "# -*- coding: utf-8 -*-"
  },
  "kernelspec": {
   "display_name": "Python 3.8.5 64-bit ('3dprintdoe': conda)",
   "language": "python",
   "name": "python38564bit3dprintdoecondaa9e95e5e3d694e3aa6fd53af0d5755b1"
  },
  "language_info": {
   "codemirror_mode": {
    "name": "ipython",
    "version": 3
   },
   "file_extension": ".py",
   "mimetype": "text/x-python",
   "name": "python",
   "nbconvert_exporter": "python",
   "pygments_lexer": "ipython3",
   "version": "3.8.5-final"
  }
 },
 "nbformat": 4,
 "nbformat_minor": 2
}