{
 "cells": [
  {
   "source": [
    "# Usage example for `sliceoptim`\n",
    "\n",
    "This notebook provides an example of use for the `sliceoptim` package.  \n",
    "We present here how it can be used to optimize slicing parameters for the first layer of a print.  \n",
    "First we import sliceoptim modules and some utilities:"
   ],
   "cell_type": "markdown",
   "metadata": {}
  },
  {
   "cell_type": "code",
   "execution_count": 1,
   "id": "educational-praise",
   "metadata": {},
   "outputs": [],
   "source": [
    "# main modules\n",
    "import sliceoptim.samples as sp\n",
    "import sliceoptim.core as core\n",
    "# utilities\n",
    "import numpy as np\n",
    "import pandas as pd"
   ]
  },
  {
   "source": [
    "As we want to optimize our settings for a specific printer / filament pair, we must define these entities."
   ],
   "cell_type": "markdown",
   "metadata": {}
  },
  {
   "cell_type": "code",
   "execution_count": 2,
   "id": "terminal-bulletin",
   "metadata": {},
   "outputs": [],
   "source": [
    "printer = core.Printer(\n",
    "    name=\"test_printer\",\n",
    "    bed_size=[220, 220],\n",
    "    nozzle_diameter=0.4,\n",
    "    max_speed=120,\n",
    "    min_speed=5,\n",
    ")\n",
    "\n",
    "filament = core.Filament(\n",
    "    name=\"pla_test\",\n",
    "    material=\"pla\",\n",
    "    extrusion_temp_range=[180, 250],\n",
    "    bed_temp_range=[25, 80],\n",
    "    diameter=1.75,\n",
    ")"
   ]
  },
  {
   "source": [
    "In this example, we want to find optimal parameters for the first layer bed and extrusion temperatures, height and speed.  \n",
    "To do so, we define the parametric search space."
   ],
   "cell_type": "markdown",
   "metadata": {}
  },
  {
   "cell_type": "code",
   "execution_count": 3,
   "id": "japanese-toronto",
   "metadata": {},
   "outputs": [],
   "source": [
    "### setup parameters space\n",
    "space = core.ParametersSpace()\n",
    "\n",
    "space.add_param(name=\"first-layer-temperature\", low=190, high=220)\n",
    "space.add_param(name=\"first-layer-bed-temperature\", low=40, high=55)\n",
    "space.add_param(name=\"first-layer-speed\", low=printer.min_speed, high=printer.max_speed * 0.5)\n",
    "space.add_param(name=\"first-layer-height\", low=printer.nozzle_diameter * 0.7, high=printer.nozzle_diameter)"
   ]
  },
  {
   "source": [
    "Perfect! We need now to create an Experiment by providing a stl file for samples and the parametric space.  \n",
    "Note we also specify the spacing between samples (in mm) to avoid overlappings and toolpath problems."
   ],
   "cell_type": "markdown",
   "metadata": {}
  },
  {
   "cell_type": "code",
   "execution_count": 4,
   "metadata": {
    "lines_to_next_cell": 2
   },
   "outputs": [],
   "source": [
    "### setup experiment\n",
    "experiment = core.Experiment(\n",
    "    name=\"first_layer\",\n",
    "    sample_file=\"../assets/first_layer.stl\",\n",
    "    is_first_layer=True,\n",
    "    spacing=5,\n",
    "    printer=printer,\n",
    "    filament=filament,\n",
    "    params_space=space,\n",
    "    output_file=\"../examples/example.gcode\",\n",
    ")"
   ]
  },
  {
   "source": [
    "Now, we can generate the first batch of testing samples. Each sample will be generated from the stl file and randomized slicing parameters from the provided parametric space."
   ],
   "cell_type": "markdown",
   "metadata": {}
  },
  {
   "cell_type": "code",
   "execution_count": 5,
   "metadata": {},
   "outputs": [
    {
     "output_type": "execute_result",
     "data": {
      "text/plain": [
       "36"
      ]
     },
     "metadata": {},
     "execution_count": 5
    }
   ],
   "source": [
    "experiment.max_samples_count"
   ]
  },
  {
   "source": [
    "The computed maximum number of samples for this experiment is of 36."
   ],
   "cell_type": "markdown",
   "metadata": {}
  },
  {
   "cell_type": "code",
   "execution_count": 6,
   "metadata": {},
   "outputs": [
    {
     "output_type": "execute_result",
     "data": {
      "text/plain": [
       "<sliceoptim.samples.SampleGrid at 0x7fe3d86a12b0>"
      ]
     },
     "metadata": {},
     "execution_count": 6
    }
   ],
   "source": [
    "experiment.create_new_sample_grid(10)"
   ]
  },
  {
   "source": [
    "Generated samples grid is directly stored in the experiment object."
   ],
   "cell_type": "markdown",
   "metadata": {}
  },
  {
   "cell_type": "code",
   "execution_count": 7,
   "metadata": {},
   "outputs": [
    {
     "output_type": "execute_result",
     "data": {
      "text/plain": [
       "[<sliceoptim.samples.Sample at 0x7fe3d86e3d90>,\n",
       " <sliceoptim.samples.Sample at 0x7fe3d86e3f40>,\n",
       " <sliceoptim.samples.Sample at 0x7fe3d86e3ca0>,\n",
       " <sliceoptim.samples.Sample at 0x7fe3d86e3d60>,\n",
       " <sliceoptim.samples.Sample at 0x7fe42ae27a60>,\n",
       " <sliceoptim.samples.Sample at 0x7fe3d86e3b20>,\n",
       " <sliceoptim.samples.Sample at 0x7fe3d86e3b50>,\n",
       " <sliceoptim.samples.Sample at 0x7fe4380aa280>,\n",
       " <sliceoptim.samples.Sample at 0x7fe3d86a1070>,\n",
       " <sliceoptim.samples.Sample at 0x7fe3d8708c70>]"
      ]
     },
     "metadata": {},
     "execution_count": 7
    }
   ],
   "source": [
    "experiment.sample_grid_list[0].samples_list"
   ]
  },
  {
   "source": [
    "We are ready to generate corresponding gcode:"
   ],
   "cell_type": "markdown",
   "metadata": {}
  },
  {
   "cell_type": "code",
   "execution_count": 8,
   "metadata": {},
   "outputs": [],
   "source": [
    "experiment.sample_grid_list[0].write_gcode()\n",
    "# or with the shortcut\n",
    "experiment.write_gcode_for_last_sample_grid()"
   ]
  },
  {
   "source": [
    "Design values (samples parameters), quality and samples costs can be retrived as a pandas dataframe."
   ],
   "cell_type": "markdown",
   "metadata": {}
  },
  {
   "cell_type": "code",
   "execution_count": 9,
   "metadata": {},
   "outputs": [
    {
     "output_type": "execute_result",
     "data": {
      "text/plain": [
       "   first-layer-temperature  first-layer-bed-temperature  first-layer-speed  \\\n",
       "0                      212                           41                 20   \n",
       "1                      203                           42                 26   \n",
       "2                      206                           43                 48   \n",
       "3                      191                           45                 39   \n",
       "4                      196                           47                  5   \n",
       "5                      220                           48                 34   \n",
       "6                      207                           48                 17   \n",
       "7                      199                           50                 42   \n",
       "8                      194                           52                 59   \n",
       "9                      215                           54                 12   \n",
       "\n",
       "   first-layer-height  temperature  bed-temperature  print_time quality  cost  \\\n",
       "0            0.387585          212               41    0.626453    None  None   \n",
       "1            0.286839          203               42    0.721335    None  None   \n",
       "2            0.393258          206               43    0.327076    None  None   \n",
       "3            0.343589          191               45    0.412801    None  None   \n",
       "4            0.363578          196               47    2.339669    None  None   \n",
       "5            0.333324          220               48    0.519025    None  None   \n",
       "6            0.304786          207               48    0.871260    None  None   \n",
       "7            0.377587          199               50    0.362066    None  None   \n",
       "8            0.299737          194               52    0.410885    None  None   \n",
       "9            0.319418          215               54    1.133943    None  None   \n",
       "\n",
       "   sample_grid_id  \n",
       "0             0.0  \n",
       "1             0.0  \n",
       "2             0.0  \n",
       "3             0.0  \n",
       "4             0.0  \n",
       "5             0.0  \n",
       "6             0.0  \n",
       "7             0.0  \n",
       "8             0.0  \n",
       "9             0.0  "
      ],
      "text/html": "<div>\n<style scoped>\n    .dataframe tbody tr th:only-of-type {\n        vertical-align: middle;\n    }\n\n    .dataframe tbody tr th {\n        vertical-align: top;\n    }\n\n    .dataframe thead th {\n        text-align: right;\n    }\n</style>\n<table border=\"1\" class=\"dataframe\">\n  <thead>\n    <tr style=\"text-align: right;\">\n      <th></th>\n      <th>first-layer-temperature</th>\n      <th>first-layer-bed-temperature</th>\n      <th>first-layer-speed</th>\n      <th>first-layer-height</th>\n      <th>temperature</th>\n      <th>bed-temperature</th>\n      <th>print_time</th>\n      <th>quality</th>\n      <th>cost</th>\n      <th>sample_grid_id</th>\n    </tr>\n  </thead>\n  <tbody>\n    <tr>\n      <th>0</th>\n      <td>212</td>\n      <td>41</td>\n      <td>20</td>\n      <td>0.387585</td>\n      <td>212</td>\n      <td>41</td>\n      <td>0.626453</td>\n      <td>None</td>\n      <td>None</td>\n      <td>0.0</td>\n    </tr>\n    <tr>\n      <th>1</th>\n      <td>203</td>\n      <td>42</td>\n      <td>26</td>\n      <td>0.286839</td>\n      <td>203</td>\n      <td>42</td>\n      <td>0.721335</td>\n      <td>None</td>\n      <td>None</td>\n      <td>0.0</td>\n    </tr>\n    <tr>\n      <th>2</th>\n      <td>206</td>\n      <td>43</td>\n      <td>48</td>\n      <td>0.393258</td>\n      <td>206</td>\n      <td>43</td>\n      <td>0.327076</td>\n      <td>None</td>\n      <td>None</td>\n      <td>0.0</td>\n    </tr>\n    <tr>\n      <th>3</th>\n      <td>191</td>\n      <td>45</td>\n      <td>39</td>\n      <td>0.343589</td>\n      <td>191</td>\n      <td>45</td>\n      <td>0.412801</td>\n      <td>None</td>\n      <td>None</td>\n      <td>0.0</td>\n    </tr>\n    <tr>\n      <th>4</th>\n      <td>196</td>\n      <td>47</td>\n      <td>5</td>\n      <td>0.363578</td>\n      <td>196</td>\n      <td>47</td>\n      <td>2.339669</td>\n      <td>None</td>\n      <td>None</td>\n      <td>0.0</td>\n    </tr>\n    <tr>\n      <th>5</th>\n      <td>220</td>\n      <td>48</td>\n      <td>34</td>\n      <td>0.333324</td>\n      <td>220</td>\n      <td>48</td>\n      <td>0.519025</td>\n      <td>None</td>\n      <td>None</td>\n      <td>0.0</td>\n    </tr>\n    <tr>\n      <th>6</th>\n      <td>207</td>\n      <td>48</td>\n      <td>17</td>\n      <td>0.304786</td>\n      <td>207</td>\n      <td>48</td>\n      <td>0.871260</td>\n      <td>None</td>\n      <td>None</td>\n      <td>0.0</td>\n    </tr>\n    <tr>\n      <th>7</th>\n      <td>199</td>\n      <td>50</td>\n      <td>42</td>\n      <td>0.377587</td>\n      <td>199</td>\n      <td>50</td>\n      <td>0.362066</td>\n      <td>None</td>\n      <td>None</td>\n      <td>0.0</td>\n    </tr>\n    <tr>\n      <th>8</th>\n      <td>194</td>\n      <td>52</td>\n      <td>59</td>\n      <td>0.299737</td>\n      <td>194</td>\n      <td>52</td>\n      <td>0.410885</td>\n      <td>None</td>\n      <td>None</td>\n      <td>0.0</td>\n    </tr>\n    <tr>\n      <th>9</th>\n      <td>215</td>\n      <td>54</td>\n      <td>12</td>\n      <td>0.319418</td>\n      <td>215</td>\n      <td>54</td>\n      <td>1.133943</td>\n      <td>None</td>\n      <td>None</td>\n      <td>0.0</td>\n    </tr>\n  </tbody>\n</table>\n</div>"
     },
     "metadata": {},
     "execution_count": 9
    }
   ],
   "source": [
    "experiment.to_dataframe()"
   ]
  },
  {
   "source": [
    "Experiment samples can be also set up with the method `from_dataframe`.  \n",
    "However, to register quality values after a print, you must loop directly over samples and register them and compute costs."
   ],
   "cell_type": "markdown",
   "metadata": {}
  },
  {
   "cell_type": "code",
   "execution_count": 10,
   "metadata": {},
   "outputs": [],
   "source": [
    "quality_values = [0,1,5,7,3,9,4,9,8,2]\n",
    "for i, sample in enumerate(experiment.sample_grid_list[0].samples_list):\n",
    "    sample.quality = quality_values[i] "
   ]
  },
  {
   "cell_type": "code",
   "execution_count": 11,
   "metadata": {},
   "outputs": [],
   "source": [
    "experiment.compute_and_update_samples_costs()"
   ]
  },
  {
   "cell_type": "code",
   "execution_count": 12,
   "metadata": {},
   "outputs": [
    {
     "output_type": "execute_result",
     "data": {
      "text/plain": [
       "   first-layer-temperature  first-layer-bed-temperature  first-layer-speed  \\\n",
       "0                      212                           41                 20   \n",
       "1                      203                           42                 26   \n",
       "2                      206                           43                 48   \n",
       "3                      191                           45                 39   \n",
       "4                      196                           47                  5   \n",
       "5                      220                           48                 34   \n",
       "6                      207                           48                 17   \n",
       "7                      199                           50                 42   \n",
       "8                      194                           52                 59   \n",
       "9                      215                           54                 12   \n",
       "\n",
       "   first-layer-height  temperature  bed-temperature  print_time  quality  \\\n",
       "0            0.387585          212               41    0.626453        0   \n",
       "1            0.286839          203               42    0.721335        1   \n",
       "2            0.393258          206               43    0.327076        5   \n",
       "3            0.343589          191               45    0.412801        7   \n",
       "4            0.363578          196               47    2.339669        3   \n",
       "5            0.333324          220               48    0.519025        9   \n",
       "6            0.304786          207               48    0.871260        4   \n",
       "7            0.377587          199               50    0.362066        9   \n",
       "8            0.299737          194               52    0.410885        8   \n",
       "9            0.319418          215               54    1.133943        2   \n",
       "\n",
       "        cost  sample_grid_id  \n",
       "0  10.000000             0.0  \n",
       "1   8.888889             0.0  \n",
       "2   4.444444             0.0  \n",
       "3   3.333333             0.0  \n",
       "4   6.666667             0.0  \n",
       "5   1.111111             0.0  \n",
       "6   5.555556             0.0  \n",
       "7   0.000000             0.0  \n",
       "8   2.222222             0.0  \n",
       "9   7.777778             0.0  "
      ],
      "text/html": "<div>\n<style scoped>\n    .dataframe tbody tr th:only-of-type {\n        vertical-align: middle;\n    }\n\n    .dataframe tbody tr th {\n        vertical-align: top;\n    }\n\n    .dataframe thead th {\n        text-align: right;\n    }\n</style>\n<table border=\"1\" class=\"dataframe\">\n  <thead>\n    <tr style=\"text-align: right;\">\n      <th></th>\n      <th>first-layer-temperature</th>\n      <th>first-layer-bed-temperature</th>\n      <th>first-layer-speed</th>\n      <th>first-layer-height</th>\n      <th>temperature</th>\n      <th>bed-temperature</th>\n      <th>print_time</th>\n      <th>quality</th>\n      <th>cost</th>\n      <th>sample_grid_id</th>\n    </tr>\n  </thead>\n  <tbody>\n    <tr>\n      <th>0</th>\n      <td>212</td>\n      <td>41</td>\n      <td>20</td>\n      <td>0.387585</td>\n      <td>212</td>\n      <td>41</td>\n      <td>0.626453</td>\n      <td>0</td>\n      <td>10.000000</td>\n      <td>0.0</td>\n    </tr>\n    <tr>\n      <th>1</th>\n      <td>203</td>\n      <td>42</td>\n      <td>26</td>\n      <td>0.286839</td>\n      <td>203</td>\n      <td>42</td>\n      <td>0.721335</td>\n      <td>1</td>\n      <td>8.888889</td>\n      <td>0.0</td>\n    </tr>\n    <tr>\n      <th>2</th>\n      <td>206</td>\n      <td>43</td>\n      <td>48</td>\n      <td>0.393258</td>\n      <td>206</td>\n      <td>43</td>\n      <td>0.327076</td>\n      <td>5</td>\n      <td>4.444444</td>\n      <td>0.0</td>\n    </tr>\n    <tr>\n      <th>3</th>\n      <td>191</td>\n      <td>45</td>\n      <td>39</td>\n      <td>0.343589</td>\n      <td>191</td>\n      <td>45</td>\n      <td>0.412801</td>\n      <td>7</td>\n      <td>3.333333</td>\n      <td>0.0</td>\n    </tr>\n    <tr>\n      <th>4</th>\n      <td>196</td>\n      <td>47</td>\n      <td>5</td>\n      <td>0.363578</td>\n      <td>196</td>\n      <td>47</td>\n      <td>2.339669</td>\n      <td>3</td>\n      <td>6.666667</td>\n      <td>0.0</td>\n    </tr>\n    <tr>\n      <th>5</th>\n      <td>220</td>\n      <td>48</td>\n      <td>34</td>\n      <td>0.333324</td>\n      <td>220</td>\n      <td>48</td>\n      <td>0.519025</td>\n      <td>9</td>\n      <td>1.111111</td>\n      <td>0.0</td>\n    </tr>\n    <tr>\n      <th>6</th>\n      <td>207</td>\n      <td>48</td>\n      <td>17</td>\n      <td>0.304786</td>\n      <td>207</td>\n      <td>48</td>\n      <td>0.871260</td>\n      <td>4</td>\n      <td>5.555556</td>\n      <td>0.0</td>\n    </tr>\n    <tr>\n      <th>7</th>\n      <td>199</td>\n      <td>50</td>\n      <td>42</td>\n      <td>0.377587</td>\n      <td>199</td>\n      <td>50</td>\n      <td>0.362066</td>\n      <td>9</td>\n      <td>0.000000</td>\n      <td>0.0</td>\n    </tr>\n    <tr>\n      <th>8</th>\n      <td>194</td>\n      <td>52</td>\n      <td>59</td>\n      <td>0.299737</td>\n      <td>194</td>\n      <td>52</td>\n      <td>0.410885</td>\n      <td>8</td>\n      <td>2.222222</td>\n      <td>0.0</td>\n    </tr>\n    <tr>\n      <th>9</th>\n      <td>215</td>\n      <td>54</td>\n      <td>12</td>\n      <td>0.319418</td>\n      <td>215</td>\n      <td>54</td>\n      <td>1.133943</td>\n      <td>2</td>\n      <td>7.777778</td>\n      <td>0.0</td>\n    </tr>\n  </tbody>\n</table>\n</div>"
     },
     "metadata": {},
     "execution_count": 12
    }
   ],
   "source": [
    "experiment.to_dataframe()"
   ]
  },
  {
   "source": [
    "After this step, we must register results to optimizer and compute a new samples batch."
   ],
   "cell_type": "markdown",
   "metadata": {}
  },
  {
   "cell_type": "code",
   "execution_count": 13,
   "metadata": {},
   "outputs": [
    {
     "output_type": "execute_result",
     "data": {
      "text/plain": [
       "<sliceoptim.samples.SampleGrid at 0x7fe3d86d9d90>"
      ]
     },
     "metadata": {},
     "execution_count": 13
    }
   ],
   "source": [
    "experiment.register_costs_to_optimizer()\n",
    "experiment.create_new_sample_grid(5)"
   ]
  },
  {
   "source": [
    "Like for the first samples grid (or batch), we can write new gcode and register quality results."
   ],
   "cell_type": "markdown",
   "metadata": {}
  },
  {
   "cell_type": "code",
   "execution_count": 14,
   "metadata": {},
   "outputs": [],
   "source": [
    "experiment.write_gcode_for_last_sample_grid()\n",
    "quality_values = [5,10,15,10,8]\n",
    "for i, sample in enumerate(experiment.sample_grid_list[-1].samples_list):\n",
    "    sample.quality = quality_values[i]\n",
    "experiment.compute_and_update_samples_costs()\n",
    "experiment.register_costs_to_optimizer()"
   ]
  },
  {
   "source": [
    "From there, we already can compute an optimal set of parameters !  \n",
    "However, it is likely than we did not generate enough samples for a reliable results.  \n",
    "We may repeat the process until we the optimal cost and uncertainty doesn't improve significatively.  \n",
    "A validation sample can be printed using computed optimal parameters."
   ],
   "cell_type": "markdown",
   "metadata": {}
  },
  {
   "cell_type": "code",
   "execution_count": 15,
   "metadata": {},
   "outputs": [
    {
     "output_type": "stream",
     "name": "stdout",
     "text": [
      "optimal parameters : {'first-layer-temperature': 209.0, 'first-layer-bed-temperature': 52.0, 'first-layer-speed': 50.0, 'first-layer-height': 0.4}, \noptimal cost : 0.7487857018491852, \nuncertainty : 5.01605561790747\n"
     ]
    }
   ],
   "source": [
    "optimal_params, optimal_cost, uncertainty = experiment.estim_best_config()\n",
    "results  = \"optimal parameters : {}, \\noptimal cost : {}, \\nuncertainty : {}\".format(optimal_params, optimal_cost, uncertainty)\n",
    "print(results)"
   ]
  },
  {
   "cell_type": "code",
   "execution_count": 16,
   "metadata": {},
   "outputs": [],
   "source": [
    "experiment.write_validation_sample(optimal_params, \"validation.gcode\")"
   ]
  }
 ],
 "metadata": {
  "jupytext": {
   "encoding": "# -*- coding: utf-8 -*-"
  },
  "kernelspec": {
   "name": "python3",
   "display_name": "Python 3.8.5 64-bit"
  },
  "language_info": {
   "codemirror_mode": {
    "name": "ipython",
    "version": 3
   },
   "file_extension": ".py",
   "mimetype": "text/x-python",
   "name": "python",
   "nbconvert_exporter": "python",
   "pygments_lexer": "ipython3",
   "version": "3.8.5"
  },
  "interpreter": {
   "hash": "933ae3860ebfeb9996a7cee5588a9b269ebfafba6cedee279d367aac29857707"
  }
 },
 "nbformat": 4,
 "nbformat_minor": 2
}