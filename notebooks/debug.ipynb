{
 "metadata": {
  "language_info": {
   "codemirror_mode": {
    "name": "ipython",
    "version": 3
   },
   "file_extension": ".py",
   "mimetype": "text/x-python",
   "name": "python",
   "nbconvert_exporter": "python",
   "pygments_lexer": "ipython3",
   "version": "3.8.5-final"
  },
  "orig_nbformat": 2,
  "kernelspec": {
   "name": "python38564bit3dprintdoecondaa9e95e5e3d694e3aa6fd53af0d5755b1",
   "display_name": "Python 3.8.5 64-bit ('3dprintdoe': conda)",
   "language": "python"
  }
 },
 "nbformat": 4,
 "nbformat_minor": 2,
 "cells": [
  {
   "cell_type": "code",
   "execution_count": 1,
   "metadata": {},
   "outputs": [],
   "source": [
    "import sliceoptim.core as core\n",
    "import pandas as pd\n",
    "from skopt.space import Real, Integer\n",
    "from skopt import Space, Optimizer\n",
    "from numpy import around, NaN\n",
    "import numpy as np\n",
    "\n",
    "test_stl = \"../assets/calicat.stl\""
   ]
  },
  {
   "cell_type": "code",
   "execution_count": 3,
   "metadata": {},
   "outputs": [
    {
     "output_type": "execute_result",
     "data": {
      "text/plain": [
       "   first-layer-temperature  first-layer-bed-temperature  temperature  \\\n",
       "0                      218                           47          203   \n",
       "1                      193                           49          211   \n",
       "2                      198                           53          219   \n",
       "\n",
       "   bed-temperature  first-layer-speed  first-layer-height  \\\n",
       "0               55                 43            0.334733   \n",
       "1               47                 50            0.372197   \n",
       "2               50                 23            0.300837   \n",
       "\n",
       "   first-layer-extrusion-width  extrusion-multiplier  layer-height  \\\n",
       "0                     0.819606              1.034363      0.150993   \n",
       "1                     0.974377              0.924020      0.397101   \n",
       "2                     0.400491              0.859496      0.272207   \n",
       "\n",
       "   print_time  quality  cost  \n",
       "0   35.682967      NaN   NaN  \n",
       "1   19.746391      NaN   NaN  \n",
       "2   22.225243      NaN   NaN  "
      ],
      "text/html": "<div>\n<style scoped>\n    .dataframe tbody tr th:only-of-type {\n        vertical-align: middle;\n    }\n\n    .dataframe tbody tr th {\n        vertical-align: top;\n    }\n\n    .dataframe thead th {\n        text-align: right;\n    }\n</style>\n<table border=\"1\" class=\"dataframe\">\n  <thead>\n    <tr style=\"text-align: right;\">\n      <th></th>\n      <th>first-layer-temperature</th>\n      <th>first-layer-bed-temperature</th>\n      <th>temperature</th>\n      <th>bed-temperature</th>\n      <th>first-layer-speed</th>\n      <th>first-layer-height</th>\n      <th>first-layer-extrusion-width</th>\n      <th>extrusion-multiplier</th>\n      <th>layer-height</th>\n      <th>print_time</th>\n      <th>quality</th>\n      <th>cost</th>\n    </tr>\n  </thead>\n  <tbody>\n    <tr>\n      <th>0</th>\n      <td>218</td>\n      <td>47</td>\n      <td>203</td>\n      <td>55</td>\n      <td>43</td>\n      <td>0.334733</td>\n      <td>0.819606</td>\n      <td>1.034363</td>\n      <td>0.150993</td>\n      <td>35.682967</td>\n      <td>NaN</td>\n      <td>NaN</td>\n    </tr>\n    <tr>\n      <th>1</th>\n      <td>193</td>\n      <td>49</td>\n      <td>211</td>\n      <td>47</td>\n      <td>50</td>\n      <td>0.372197</td>\n      <td>0.974377</td>\n      <td>0.924020</td>\n      <td>0.397101</td>\n      <td>19.746391</td>\n      <td>NaN</td>\n      <td>NaN</td>\n    </tr>\n    <tr>\n      <th>2</th>\n      <td>198</td>\n      <td>53</td>\n      <td>219</td>\n      <td>50</td>\n      <td>23</td>\n      <td>0.300837</td>\n      <td>0.400491</td>\n      <td>0.859496</td>\n      <td>0.272207</td>\n      <td>22.225243</td>\n      <td>NaN</td>\n      <td>NaN</td>\n    </tr>\n  </tbody>\n</table>\n</div>"
     },
     "metadata": {},
     "execution_count": 3
    }
   ],
   "source": [
    "pd.read_csv(\"results_test.csv\", index_col = 0)"
   ]
  },
  {
   "cell_type": "code",
   "execution_count": 4,
   "metadata": {},
   "outputs": [],
   "source": [
    "\n",
    "printer = core.Printer(\n",
    "    name=\"test_printer\",\n",
    "    bed_size=[220, 220], nozzle_diameter=0.4, max_speed=120, min_speed=5\n",
    ")\n",
    "filament = core.Filament(\n",
    "    name=\"test_fil\",\n",
    "    kind=\"pla\",\n",
    "    extrusion_temp_range=[180, 250],\n",
    "    bed_temp_range=[25, 80],\n",
    "    diameter=1.75,\n",
    ")\n",
    "\n",
    "\n",
    "\n",
    "params = []\n",
    "params.append(Integer(name=\"first-layer-temperature\", low=190, high=220))\n",
    "params.append(Integer(name=\"first-layer-bed-temperature\", low=40, high=55))\n",
    "params.append(Integer(name=\"temperature\", low=190, high=220))\n",
    "params.append(Integer(name=\"bed-temperature\", low=40, high=55))\n",
    "params.append(\n",
    "    Integer(\n",
    "        name=\"first-layer-speed\",\n",
    "        low=printer.min_speed,\n",
    "        high=printer.max_speed * 0.5,\n",
    "    )\n",
    ")\n",
    "params.append(\n",
    "    Real(\n",
    "        name=\"first-layer-height\",\n",
    "        low=printer.nozzle_diameter * 0.75,\n",
    "        high=printer.nozzle_diameter,\n",
    "    )\n",
    ")\n",
    "params.append(\n",
    "    Real(\n",
    "        name=\"first-layer-extrusion-width\",\n",
    "        low=printer.nozzle_diameter * 0.9,\n",
    "        high=printer.nozzle_diameter * 2.5,\n",
    "    )\n",
    ")\n",
    "params.append(Real(name=\"extrusion-multiplier\", low=0.8, high=1.2))\n",
    "params.append(\n",
    "    Real(\n",
    "        name=\"layer-height\",\n",
    "        low=printer.nozzle_diameter * 0.2,\n",
    "        high=printer.nozzle_diameter,\n",
    "    )\n",
    ")\n",
    "space = Space(params)\n",
    "\n",
    "\n",
    "out = \"test.gcode\"\n",
    "\n",
    "stl = test_stl\n",
    "is_fl = False\n",
    "s = 30\n",
    "exp = core.Experiment(\n",
    "    \"test\",\n",
    "    sample_file=stl,\n",
    "    is_first_layer=is_fl,\n",
    "    spacing=s,\n",
    "    printer=printer,\n",
    "    filament=filament,\n",
    "    params_space=space,\n",
    "    output_file=out,\n",
    ")"
   ]
  },
  {
   "cell_type": "code",
   "execution_count": 5,
   "metadata": {},
   "outputs": [
    {
     "output_type": "execute_result",
     "data": {
      "text/plain": [
       "['first-layer-temperature',\n",
       " 'first-layer-bed-temperature',\n",
       " 'temperature',\n",
       " 'bed-temperature',\n",
       " 'first-layer-speed',\n",
       " 'first-layer-height',\n",
       " 'first-layer-extrusion-width',\n",
       " 'extrusion-multiplier',\n",
       " 'layer-height']"
      ]
     },
     "metadata": {},
     "execution_count": 5
    }
   ],
   "source": [
    "space.dimension_names"
   ]
  },
  {
   "cell_type": "code",
   "execution_count": 8,
   "metadata": {},
   "outputs": [
    {
     "output_type": "execute_result",
     "data": {
      "text/plain": [
       "<sliceoptim.samples.SampleGrid at 0x7fb30bbe4b80>"
      ]
     },
     "metadata": {},
     "execution_count": 8
    }
   ],
   "source": [
    "exp.create_new_sample_grid(3)"
   ]
  },
  {
   "cell_type": "code",
   "execution_count": 11,
   "metadata": {},
   "outputs": [],
   "source": [
    "exp.export_csv(\"\")"
   ]
  },
  {
   "cell_type": "code",
   "execution_count": 4,
   "metadata": {},
   "outputs": [],
   "source": [
    "samples = exp.get_samples_list()\n",
    "for s in samples:\n",
    "    s.quality = np.random.randn()"
   ]
  },
  {
   "cell_type": "code",
   "execution_count": 5,
   "metadata": {},
   "outputs": [],
   "source": [
    "exp.compute_and_update_samples_costs()"
   ]
  },
  {
   "cell_type": "code",
   "execution_count": 6,
   "metadata": {},
   "outputs": [
    {
     "output_type": "execute_result",
     "data": {
      "text/plain": [
       "   print_time   quality  cost\n",
       "0   30.594644 -0.552596  10.0\n",
       "1   20.484318 -0.285078   5.0\n",
       "2   44.500176  0.732811   0.0"
      ],
      "text/html": "<div>\n<style scoped>\n    .dataframe tbody tr th:only-of-type {\n        vertical-align: middle;\n    }\n\n    .dataframe tbody tr th {\n        vertical-align: top;\n    }\n\n    .dataframe thead th {\n        text-align: right;\n    }\n</style>\n<table border=\"1\" class=\"dataframe\">\n  <thead>\n    <tr style=\"text-align: right;\">\n      <th></th>\n      <th>print_time</th>\n      <th>quality</th>\n      <th>cost</th>\n    </tr>\n  </thead>\n  <tbody>\n    <tr>\n      <th>0</th>\n      <td>30.594644</td>\n      <td>-0.552596</td>\n      <td>10.0</td>\n    </tr>\n    <tr>\n      <th>1</th>\n      <td>20.484318</td>\n      <td>-0.285078</td>\n      <td>5.0</td>\n    </tr>\n    <tr>\n      <th>2</th>\n      <td>44.500176</td>\n      <td>0.732811</td>\n      <td>0.0</td>\n    </tr>\n  </tbody>\n</table>\n</div>"
     },
     "metadata": {},
     "execution_count": 6
    }
   ],
   "source": [
    "exp.get_samples_results_df()"
   ]
  },
  {
   "cell_type": "code",
   "execution_count": 7,
   "metadata": {},
   "outputs": [
    {
     "output_type": "execute_result",
     "data": {
      "text/plain": [
       "['print_time', 'quality', 'cost']"
      ]
     },
     "metadata": {},
     "execution_count": 7
    }
   ],
   "source": [
    "exp.get_samples_results_df().columns.to_list()"
   ]
  },
  {
   "cell_type": "code",
   "execution_count": 7,
   "metadata": {},
   "outputs": [],
   "source": [
    "exp.create_new_sample_grid(3)\n",
    "samples = exp.get_samples_list()\n",
    "for s in samples:\n",
    "    s.quality = np.random.randn()\n",
    "exp.compute_and_update_samples_costs()"
   ]
  },
  {
   "cell_type": "code",
   "execution_count": 8,
   "metadata": {},
   "outputs": [
    {
     "output_type": "execute_result",
     "data": {
      "text/plain": [
       "   first-layer-temperature  first-layer-bed-temperature  temperature  \\\n",
       "0                      194                           46          198   \n",
       "1                      208                           50          191   \n",
       "2                      216                           51          218   \n",
       "0                      194                           46          198   \n",
       "1                      208                           50          191   \n",
       "2                      216                           51          218   \n",
       "\n",
       "   bed-temperature  first-layer-speed  first-layer-height  \\\n",
       "0               49                 54            0.399056   \n",
       "1               40                 41            0.310453   \n",
       "2               54                 20            0.373471   \n",
       "0               49                 54            0.399056   \n",
       "1               40                 41            0.310453   \n",
       "2               54                 20            0.373471   \n",
       "\n",
       "   first-layer-extrusion-width  extrusion-multiplier  layer-height  \n",
       "0                     0.698616              0.814038      0.178187  \n",
       "1                     0.403733              0.957373      0.313139  \n",
       "2                     0.595718              1.104605      0.119048  \n",
       "0                     0.698616              0.814038      0.178187  \n",
       "1                     0.403733              0.957373      0.313139  \n",
       "2                     0.595718              1.104605      0.119048  "
      ],
      "text/html": "<div>\n<style scoped>\n    .dataframe tbody tr th:only-of-type {\n        vertical-align: middle;\n    }\n\n    .dataframe tbody tr th {\n        vertical-align: top;\n    }\n\n    .dataframe thead th {\n        text-align: right;\n    }\n</style>\n<table border=\"1\" class=\"dataframe\">\n  <thead>\n    <tr style=\"text-align: right;\">\n      <th></th>\n      <th>first-layer-temperature</th>\n      <th>first-layer-bed-temperature</th>\n      <th>temperature</th>\n      <th>bed-temperature</th>\n      <th>first-layer-speed</th>\n      <th>first-layer-height</th>\n      <th>first-layer-extrusion-width</th>\n      <th>extrusion-multiplier</th>\n      <th>layer-height</th>\n    </tr>\n  </thead>\n  <tbody>\n    <tr>\n      <th>0</th>\n      <td>194</td>\n      <td>46</td>\n      <td>198</td>\n      <td>49</td>\n      <td>54</td>\n      <td>0.399056</td>\n      <td>0.698616</td>\n      <td>0.814038</td>\n      <td>0.178187</td>\n    </tr>\n    <tr>\n      <th>1</th>\n      <td>208</td>\n      <td>50</td>\n      <td>191</td>\n      <td>40</td>\n      <td>41</td>\n      <td>0.310453</td>\n      <td>0.403733</td>\n      <td>0.957373</td>\n      <td>0.313139</td>\n    </tr>\n    <tr>\n      <th>2</th>\n      <td>216</td>\n      <td>51</td>\n      <td>218</td>\n      <td>54</td>\n      <td>20</td>\n      <td>0.373471</td>\n      <td>0.595718</td>\n      <td>1.104605</td>\n      <td>0.119048</td>\n    </tr>\n    <tr>\n      <th>0</th>\n      <td>194</td>\n      <td>46</td>\n      <td>198</td>\n      <td>49</td>\n      <td>54</td>\n      <td>0.399056</td>\n      <td>0.698616</td>\n      <td>0.814038</td>\n      <td>0.178187</td>\n    </tr>\n    <tr>\n      <th>1</th>\n      <td>208</td>\n      <td>50</td>\n      <td>191</td>\n      <td>40</td>\n      <td>41</td>\n      <td>0.310453</td>\n      <td>0.403733</td>\n      <td>0.957373</td>\n      <td>0.313139</td>\n    </tr>\n    <tr>\n      <th>2</th>\n      <td>216</td>\n      <td>51</td>\n      <td>218</td>\n      <td>54</td>\n      <td>20</td>\n      <td>0.373471</td>\n      <td>0.595718</td>\n      <td>1.104605</td>\n      <td>0.119048</td>\n    </tr>\n  </tbody>\n</table>\n</div>"
     },
     "metadata": {},
     "execution_count": 8
    }
   ],
   "source": [
    "exp.get_designs()"
   ]
  },
  {
   "cell_type": "code",
   "execution_count": 9,
   "metadata": {},
   "outputs": [
    {
     "output_type": "error",
     "ename": "AttributeError",
     "evalue": "'Experiment' object has no attribute 'register_results_to_optimizer'",
     "traceback": [
      "\u001b[0;31m---------------------------------------------------------------------------\u001b[0m",
      "\u001b[0;31mAttributeError\u001b[0m                            Traceback (most recent call last)",
      "\u001b[0;32m<ipython-input-9-f5be6cd9870d>\u001b[0m in \u001b[0;36m<module>\u001b[0;34m\u001b[0m\n\u001b[0;32m----> 1\u001b[0;31m \u001b[0mexp\u001b[0m\u001b[0;34m.\u001b[0m\u001b[0mregister_results_to_optimizer\u001b[0m\u001b[0;34m(\u001b[0m\u001b[0;34m)\u001b[0m\u001b[0;34m\u001b[0m\u001b[0;34m\u001b[0m\u001b[0m\n\u001b[0m",
      "\u001b[0;31mAttributeError\u001b[0m: 'Experiment' object has no attribute 'register_results_to_optimizer'"
     ]
    }
   ],
   "source": [
    "exp.register_results_to_optimizer()"
   ]
  },
  {
   "cell_type": "code",
   "execution_count": 10,
   "metadata": {},
   "outputs": [
    {
     "output_type": "execute_result",
     "data": {
      "text/plain": [
       "({'first-layer-temperature': 192.0,\n",
       "  'first-layer-bed-temperature': 53.0,\n",
       "  'temperature': 209.0,\n",
       "  'bed-temperature': 46.0,\n",
       "  'first-layer-speed': 11.0,\n",
       "  'first-layer-height': 0.31062114999987145,\n",
       "  'first-layer-extrusion-width': 0.3640635783459852,\n",
       "  'extrusion-multiplier': 1.0898419636084324,\n",
       "  'layer-height': 0.2669731284399158},\n",
       " array([0.950981]))"
      ]
     },
     "metadata": {},
     "execution_count": 10
    }
   ],
   "source": [
    "exp.estim_best_config()"
   ]
  },
  {
   "cell_type": "code",
   "execution_count": 27,
   "metadata": {},
   "outputs": [
    {
     "output_type": "execute_result",
     "data": {
      "text/plain": [
       "[5.0, 10.0, 0.0, 5.0, 10.0, 0.0]"
      ]
     },
     "metadata": {},
     "execution_count": 27
    }
   ],
   "source": [
    "exp.optimizer.yi"
   ]
  },
  {
   "cell_type": "code",
   "execution_count": 29,
   "metadata": {},
   "outputs": [
    {
     "output_type": "execute_result",
     "data": {
      "text/plain": [
       "4"
      ]
     },
     "metadata": {},
     "execution_count": 29
    }
   ],
   "source": [
    "exp.optimizer.n_initial_points_"
   ]
  },
  {
   "cell_type": "code",
   "execution_count": 11,
   "metadata": {},
   "outputs": [
    {
     "output_type": "execute_result",
     "data": {
      "text/plain": [
       "{'filename': 'calicat.stl',\n",
       " 'size_x': 28.535534,\n",
       " 'size_y': 28.5,\n",
       " 'size_z': 35.0,\n",
       " 'min_x': 0.464466,\n",
       " 'min_y': 0.0,\n",
       " 'min_z': 0.0,\n",
       " 'max_x': 29.0,\n",
       " 'max_y': 28.5,\n",
       " 'max_z': 35.0,\n",
       " 'number_of_facets': 876.0,\n",
       " 'manifold': 'yes',\n",
       " 'number_of_parts': 1.0,\n",
       " 'volume': 12501.378906}"
      ]
     },
     "metadata": {},
     "execution_count": 11
    }
   ],
   "source": [
    "exp.get_samples_list()[0].get_info()"
   ]
  }
 ]
}