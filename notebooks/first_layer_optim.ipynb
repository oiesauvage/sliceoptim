{
 "metadata": {
  "language_info": {
   "codemirror_mode": {
    "name": "ipython",
    "version": 3
   },
   "file_extension": ".py",
   "mimetype": "text/x-python",
   "name": "python",
   "nbconvert_exporter": "python",
   "pygments_lexer": "ipython3",
   "version": "3.8.5-final"
  },
  "orig_nbformat": 2,
  "kernelspec": {
   "name": "python38564bit3dprintdoecondaa9e95e5e3d694e3aa6fd53af0d5755b1",
   "display_name": "Python 3.8.5 64-bit ('3dprintdoe': conda)",
   "language": "python"
  }
 },
 "nbformat": 4,
 "nbformat_minor": 2,
 "cells": [
  {
   "cell_type": "code",
   "execution_count": 1,
   "metadata": {},
   "outputs": [],
   "source": [
    "import skopt\n",
    "from skopt.space import Real, Integer\n",
    "import numpy as np\n",
    "import pandas as pd\n",
    "import sliceoptim.gcode as gc\n",
    "import sliceoptim.core as core"
   ]
  },
  {
   "cell_type": "code",
   "execution_count": 2,
   "metadata": {},
   "outputs": [],
   "source": [
    "printer = core.Printer(\n",
    "            bed_size=[220, 220],\n",
    "            nozzle_diameter=0.4,\n",
    "            max_speed=120,\n",
    "            min_speed=5\n",
    "        )\n",
    "filament = core.Filament(\n",
    "            kind=\"pla\",\n",
    "            extrusion_temp_range=[180, 250],\n",
    "            bed_temp_range=[25, 80],\n",
    "            diameter=1.75,\n",
    "        )"
   ]
  },
  {
   "cell_type": "code",
   "execution_count": 4,
   "metadata": {},
   "outputs": [],
   "source": [
    "opt = skopt.Optimizer(space, \"GP\", acq_func=\"PI\",\n",
    "                      acq_optimizer=\"auto\",\n",
    "                      initial_point_generator=\"lhs\",\n",
    "                      n_initial_points=40)"
   ]
  },
  {
   "cell_type": "code",
   "execution_count": 5,
   "metadata": {},
   "outputs": [],
   "source": [
    "samples = pd.read_csv('first_layer_experiments_graded_2.csv').drop(columns='Unnamed: 0').reset_index(drop=True)\n",
    "grades = pd.read_csv('first_layer_grades_2.csv').drop(columns='sample').reset_index(drop=True)"
   ]
  },
  {
   "cell_type": "code",
   "execution_count": 6,
   "metadata": {},
   "outputs": [],
   "source": [
    "samples = samples.drop(columns=['temperature', 'bed-temperature'])"
   ]
  },
  {
   "cell_type": "code",
   "execution_count": 7,
   "metadata": {
    "tags": []
   },
   "outputs": [],
   "source": [
    "for s in samples.iterrows():\n",
    "    opt.tell(list(s[1]), grades.at[s[0], 'grade'])"
   ]
  },
  {
   "cell_type": "code",
   "execution_count": 8,
   "metadata": {},
   "outputs": [],
   "source": [
    "new_acq_params = {\"xi\": 0.01}\n",
    "opt.acq_func_kwargs = new_acq_params\n",
    "opt.update_next()"
   ]
  },
  {
   "cell_type": "code",
   "execution_count": 9,
   "metadata": {},
   "outputs": [
    {
     "output_type": "execute_result",
     "data": {
      "text/plain": [
       "[[211, 50, 8, 0.39335169020768873, 0.576910708208415, 0.807496925920746],\n",
       " [204, 47, 41, 0.33566772228425457, 0.5403163957087957, 0.9364956388983213],\n",
       " [205, 48, 41, 0.339174368336293, 0.545569617079988, 0.9362712180115991],\n",
       " [194, 51, 6, 0.356512108298031, 0.5668469131939872, 0.8137741557391821],\n",
       " [190, 46, 20, 0.3927126871761246, 0.6369885543097433, 0.8057544562681702],\n",
       " [190, 50, 5, 0.3676009055856014, 0.36000000000000004, 0.8514139840801043],\n",
       " [190, 43, 44, 0.4, 0.4071705717544456, 0.9738536484757213],\n",
       " [190, 42, 38, 0.4, 0.36000000000000004, 0.9718067483397952],\n",
       " [199, 50, 6, 0.39857544246266907, 0.5718557303334648, 0.814417894546491],\n",
       " [190, 51, 5, 0.3254395981460219, 0.36000000000000004, 0.8518384823028554],\n",
       " [194, 50, 10, 0.305235610979456, 0.5941121822350386, 0.8146440071139689],\n",
       " [214, 47, 42, 0.31629571049761507, 0.5286234345759427, 0.940810032434759],\n",
       " [190, 42, 43, 0.4, 0.37871922132522606, 0.9756554977330265],\n",
       " [211, 48, 21, 0.4, 0.6341286579284677, 0.8086788078817906],\n",
       " [193, 41, 33, 0.341825838451185, 0.36000000000000004, 0.9646207866674208],\n",
       " [204, 48, 17, 0.4, 0.624114746887051, 0.80929688557608],\n",
       " [190, 47, 21, 0.39076458641054673, 0.6317741188199548, 0.8166336624563051],\n",
       " [200, 50, 5, 0.31626642773147884, 0.36000000000000004, 0.8693000038252783],\n",
       " [217, 41, 37, 0.33170927126184063, 0.36000000000000004, 0.9800908494377225],\n",
       " [195, 42, 42, 0.4, 0.3962156105614197, 0.9778426741907094]]"
      ]
     },
     "metadata": {},
     "execution_count": 9
    }
   ],
   "source": [
    "opt.ask(20)"
   ]
  },
  {
   "cell_type": "code",
   "execution_count": 10,
   "metadata": {},
   "outputs": [],
   "source": [
    "\n",
    "res = opt.get_result()"
   ]
  },
  {
   "source": [],
   "cell_type": "markdown",
   "metadata": {}
  },
  {
   "cell_type": "code",
   "execution_count": 92,
   "metadata": {},
   "outputs": [],
   "source": [
    "s = skopt.expected_minimum(res, 100)"
   ]
  },
  {
   "cell_type": "code",
   "execution_count": 112,
   "metadata": {},
   "outputs": [],
   "source": [
    "a, b = res.models[0].predict([s[0]], return_std=True)"
   ]
  },
  {
   "cell_type": "code",
   "execution_count": 94,
   "metadata": {},
   "outputs": [
    {
     "output_type": "stream",
     "name": "stdout",
     "text": [
      "0 : a\n1 : b\n2 : c\n"
     ]
    }
   ],
   "source": [
    "d = {\"a\": \"x\", \"b\": \"y\", \"c\": \"z\"}\n",
    "for i, k in enumerate(d):\n",
    "    print(str(i) + \" : \" + str(k))"
   ]
  },
  {
   "cell_type": "code",
   "execution_count": 107,
   "metadata": {},
   "outputs": [
    {
     "output_type": "execute_result",
     "data": {
      "text/plain": [
       "'first-layer-bed-temperature'"
      ]
     },
     "metadata": {},
     "execution_count": 107
    }
   ],
   "source": [
    "space[1][1].name"
   ]
  },
  {
   "cell_type": "code",
   "execution_count": 118,
   "metadata": {},
   "outputs": [
    {
     "output_type": "execute_result",
     "data": {
      "text/plain": [
       "array([1. , 4. , 5. , 1. , 3. , 2. , 3. , 2. , 1. , 1. , 3. , 1. , 2. ,\n",
       "       1. , 2. , 3. , 2. , 1. , 1. , 2.5, 1.5, 0.5, 2. , 2. , 2. , 2. ,\n",
       "       2. , 0.5, 1. , 1. , 2. , 2. , 2. , 3. , 3. , 2. , 2. , 1. , 1. ,\n",
       "       2. ])"
      ]
     },
     "metadata": {},
     "execution_count": 118
    }
   ],
   "source": [
    "res.func_vals # permet de récuper un pourcentage pour CI"
   ]
  }
 ]
}