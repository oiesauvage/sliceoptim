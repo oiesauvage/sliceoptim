{
 "metadata": {
  "language_info": {
   "codemirror_mode": {
    "name": "ipython",
    "version": 3
   },
   "file_extension": ".py",
   "mimetype": "text/x-python",
   "name": "python",
   "nbconvert_exporter": "python",
   "pygments_lexer": "ipython3",
   "version": "3.8.5-final"
  },
  "orig_nbformat": 2,
  "kernelspec": {
   "name": "python38564bit3dprintdoecondaa9e95e5e3d694e3aa6fd53af0d5755b1",
   "display_name": "Python 3.8.5 64-bit ('3dprintdoe': conda)",
   "language": "python"
  }
 },
 "nbformat": 4,
 "nbformat_minor": 2,
 "cells": [
  {
   "cell_type": "code",
   "execution_count": 1,
   "metadata": {},
   "outputs": [],
   "source": [
    "import skopt\n",
    "from skopt.space import Real, Integer\n",
    "import numpy as np\n",
    "import pandas as pd\n",
    "import sliceoptim.gcode as gc\n",
    "import sliceoptim.core as core"
   ]
  },
  {
   "cell_type": "code",
   "execution_count": 2,
   "metadata": {},
   "outputs": [],
   "source": [
    "printer = core.Printer(\n",
    "            bed_size=[220, 220],\n",
    "            nozzle_diameter=0.4,\n",
    "            max_speed=120,\n",
    "            min_speed=5\n",
    "        )\n",
    "filament = core.Filament(\n",
    "            kind=\"pla\",\n",
    "            extrusion_temp_range=[180, 250],\n",
    "            bed_temp_range=[25, 80],\n",
    "            diameter=1.75,\n",
    "        )"
   ]
  },
  {
   "cell_type": "code",
   "execution_count": 3,
   "metadata": {},
   "outputs": [],
   "source": [
    "sample = gc.Sample('../assets/calicat.stl', is_first_layer=False, printer=printer, filament=filament)"
   ]
  },
  {
   "cell_type": "code",
   "execution_count": 4,
   "metadata": {},
   "outputs": [],
   "source": [
    "gcode = sample.gen_gcode()"
   ]
  },
  {
   "cell_type": "code",
   "execution_count": 12,
   "metadata": {},
   "outputs": [],
   "source": [
    "# parse lines\n",
    "# handle G1 X Y / F7\n",
    "lines = gcode.splitlines()"
   ]
  },
  {
   "cell_type": "code",
   "execution_count": 15,
   "metadata": {},
   "outputs": [
    {
     "output_type": "execute_result",
     "data": {
      "text/plain": [
       "'G1 X122.911 Y114.003 E2.14805'"
      ]
     },
     "metadata": {},
     "execution_count": 15
    }
   ],
   "source": [
    "l1 = lines[150]\n",
    "l1"
   ]
  },
  {
   "cell_type": "code",
   "execution_count": 24,
   "metadata": {},
   "outputs": [],
   "source": [
    "def parse_line(line):\n",
    "    move = {\"G\": None, \"X\": None, \"Y\": None, \"Z\": None, \"F\": None}\n",
    "    for key, val in move.items():\n",
    "        if key in line:\n",
    "            d = line.split(key)[1].split(' ')[0]\n",
    "            try:\n",
    "                if key == \"G\":\n",
    "                    move[key] = int(d)\n",
    "                else:\n",
    "                    move[key] = float(d)\n",
    "            except ValueError:\n",
    "                continue\n",
    "    return move"
   ]
  },
  {
   "cell_type": "code",
   "execution_count": 30,
   "metadata": {
    "tags": []
   },
   "outputs": [
    {
     "output_type": "stream",
     "name": "stdout",
     "text": [
      "20.75176051282052\n"
     ]
    }
   ],
   "source": [
    "minutes = 0\n",
    "feedrate = 0\n",
    "last_state = {\"G\": 0, \"X\": 0, \"Y\": 0, \"Z\": 0, \"F\": 0}\n",
    "for l in lines:\n",
    "    move = parse_line(l)\n",
    "    distance = 0\n",
    "    if move[\"G\"] == 1:\n",
    "        if move[\"F\"] is not None:\n",
    "            feedrate = move[\"F\"]\n",
    "            last_state[\"F\"] = move[\"F\"]\n",
    "        for c in [\"X\", \"Y\", \"Z\"]:\n",
    "            if move[c] is not None and move[c] != last_state[c]:\n",
    "                distance = np.abs(move[c] - last_state[c])\n",
    "                last_state[c] = move[c]\n",
    "    if feedrate != 0 and distance !=0:\n",
    "        minutes += distance / feedrate\n",
    "\n",
    "print(minutes)\n",
    "        "
   ]
  }
 ]
}